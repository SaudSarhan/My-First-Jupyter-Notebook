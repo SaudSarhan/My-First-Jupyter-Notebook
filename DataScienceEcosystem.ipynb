{
 "cells": [
  {
   "cell_type": "markdown",
   "id": "6d304485-8f80-4bb4-85ac-b5cf44ed960e",
   "metadata": {},
   "source": [
    "# Data Science Tools and Ecosystem"
   ]
  },
  {
   "cell_type": "markdown",
   "id": "589835bd-5c92-42e4-9709-2f9a18256cd1",
   "metadata": {},
   "source": [
    "## In this notebook, Data Science Tools and Ecosystem are summarized."
   ]
  },
  {
   "cell_type": "markdown",
   "id": "3c76884d-b93d-40cd-959c-ded92c135dae",
   "metadata": {},
   "source": [
    "### Some of the popular languages that Data Scientists use are:\n",
    "1. Python\n",
    "1. R\n",
    "1. Java"
   ]
  },
  {
   "cell_type": "markdown",
   "id": "845a1b29-b6c1-4720-b9b0-bbe675a99876",
   "metadata": {},
   "source": [
    "### Some of the commonly used libraries used by Data Scientists include:\n",
    "1. TensorFlow\n",
    "1. Pandas\n",
    "1. Matplotlib\n",
    "1. NumPy"
   ]
  },
  {
   "cell_type": "markdown",
   "id": "ace774a8-9b09-4dbe-9961-7ce91cf19fd3",
   "metadata": {},
   "source": [
    "### Data Science Tools"
   ]
  },
  {
   "cell_type": "markdown",
   "id": "4cb29b97-9ebd-4793-aac6-18e9a429d061",
   "metadata": {},
   "source": [
    "|Tool |\n",
    "|-----------------|\n",
    "|Jupyter Notebooks|\n",
    "|Zeppelin Notebooks|\n",
    "|R Studio’s|\n"
   ]
  },
  {
   "cell_type": "markdown",
   "id": "d826d50f-9e64-4d03-a557-e45a5a00ac81",
   "metadata": {},
   "source": [
    "### Below are a few examples of evaluating arithmetic expressions in Python."
   ]
  },
  {
   "cell_type": "code",
   "execution_count": 6,
   "id": "68515568-b513-4345-a473-92cd7995cbb7",
   "metadata": {},
   "outputs": [
    {
     "data": {
      "text/plain": [
       "17"
      ]
     },
     "execution_count": 6,
     "metadata": {},
     "output_type": "execute_result"
    }
   ],
   "source": [
    "# This a simple arithmetic expression to mutiply then add integers\n",
    "(3*4)+5"
   ]
  },
  {
   "cell_type": "code",
   "execution_count": 7,
   "id": "f910f932-ad3d-433c-be53-d4a1e13695cf",
   "metadata": {},
   "outputs": [
    {
     "data": {
      "text/plain": [
       "3.3333333333333335"
      ]
     },
     "execution_count": 7,
     "metadata": {},
     "output_type": "execute_result"
    }
   ],
   "source": [
    "# This will convert 200 minutes to hours by diving by 60\n",
    "200/60"
   ]
  },
  {
   "cell_type": "markdown",
   "id": "a5c8d0ee-2ff7-4b83-9eb6-7c80bc4ff787",
   "metadata": {},
   "source": [
    "## Author\n",
    "Saud"
   ]
  },
  {
   "cell_type": "code",
   "execution_count": null,
   "id": "c83f0ccd-b1a9-47a9-b39d-2d9dad56eace",
   "metadata": {},
   "outputs": [],
   "source": []
  }
 ],
 "metadata": {
  "kernelspec": {
   "display_name": "Python 3 (ipykernel)",
   "language": "python",
   "name": "python3"
  },
  "language_info": {
   "codemirror_mode": {
    "name": "ipython",
    "version": 3
   },
   "file_extension": ".py",
   "mimetype": "text/x-python",
   "name": "python",
   "nbconvert_exporter": "python",
   "pygments_lexer": "ipython3",
   "version": "3.12.7"
  }
 },
 "nbformat": 4,
 "nbformat_minor": 5
}
